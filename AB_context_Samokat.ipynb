{
 "cells": [
  {
   "cell_type": "code",
   "execution_count": 281,
   "metadata": {},
   "outputs": [],
   "source": [
    "import pandas as pd\n",
    "import datetime\n",
    "import numpy as np\n",
    "from scipy import stats as st\n",
    "from scipy.stats import mannwhitneyu\n",
    "from scipy.stats import ttest_ind\n",
    "from scipy.stats import norm\n",
    "from scipy.stats import shapiro\n",
    "from scipy.stats import levene\n",
    "import pingouin as pg\n",
    "import scipy.stats as ss\n",
    "from scipy.stats import chi2_contingency\n",
    "import seaborn as sns\n",
    "import matplotlib.pyplot as plt\n",
    "\n",
    "import warnings\n",
    "from operator import attrgetter\n",
    "import matplotlib.colors as mcolors\n",
    "from datetime import datetime\n",
    "from scipy.stats import chi2_contingency\n",
    "import requests \n",
    "from urllib.parse import urlencode\n",
    "import scipy.stats as stats\n",
    "%matplotlib inline\n",
    "from tqdm.auto import tqdm\n",
    "import seaborn as sns"
   ]
  },
  {
   "cell_type": "markdown",
   "metadata": {},
   "source": [
    "Распространённая и самая известная на рынке схема мошенничества: мошенник берёт данные ИНН из открытых источников, регистрирует на него компанию на площадке маркетплейса. Далее выставляет ходовой товар на продажу, например iPhone 14, на 50% дешевле рынка. Когда покупатель оформляет заказ на маркетплейсе, продавец пишет покупателю, что у него есть другой сайт, где можно купить товар ещё дешевле. Покупатель соглашается и оплачивает заказ по ссылке продавца в обход площадки. После этого продавец пропадает. Покупатель остается без товара. Такие продавцы очень сильно портят репутацию маркетплейса, и необходимо их выявлять как можно быстрее, лучше всего в процессе регистрации.\n",
    "\n",
    "Для этого ML-команда предложила к использованию модель по автоопределению продавцов-мошенников, которую нам предлагается внедрить в процесс регистрации продавца.\n",
    "\n",
    "Мы хотим ввести новый функционал, но как data-driven компания не можем это сделать без тестирования и проверки качества новой функциональности через A/B-тест."
   ]
  },
  {
   "cell_type": "markdown",
   "metadata": {},
   "source": [
    "1 Cчитывание датасета"
   ]
  },
  {
   "cell_type": "code",
   "execution_count": 282,
   "metadata": {},
   "outputs": [],
   "source": [
    "base_url = 'https://cloud-api.yandex.net/v1/disk/public/resources/download?' \n",
    "\n",
    "public_key = 'https://disk.yandex.ru/d/gdXR2lcq7vVutg'\n",
    "final_url = base_url + urlencode(dict(public_key=public_key)) \n",
    "response = requests.get(final_url) \n",
    "download_url = response.json()['href']\n",
    "warnings.simplefilter(action='ignore', category=Warning)"
   ]
  },
  {
   "cell_type": "code",
   "execution_count": 283,
   "metadata": {},
   "outputs": [],
   "source": [
    "Antifrauddf = pd.read_csv(download_url, sep=';')"
   ]
  },
  {
   "cell_type": "code",
   "execution_count": 284,
   "metadata": {},
   "outputs": [
    {
     "data": {
      "text/html": [
       "<div>\n",
       "<style scoped>\n",
       "    .dataframe tbody tr th:only-of-type {\n",
       "        vertical-align: middle;\n",
       "    }\n",
       "\n",
       "    .dataframe tbody tr th {\n",
       "        vertical-align: top;\n",
       "    }\n",
       "\n",
       "    .dataframe thead th {\n",
       "        text-align: right;\n",
       "    }\n",
       "</style>\n",
       "<table border=\"1\" class=\"dataframe\">\n",
       "  <thead>\n",
       "    <tr style=\"text-align: right;\">\n",
       "      <th></th>\n",
       "      <th>registration_date</th>\n",
       "      <th>activation_date</th>\n",
       "      <th>merchant_id</th>\n",
       "      <th>type</th>\n",
       "      <th>ind_frod</th>\n",
       "    </tr>\n",
       "  </thead>\n",
       "  <tbody>\n",
       "    <tr>\n",
       "      <th>0</th>\n",
       "      <td>16.12.2023</td>\n",
       "      <td>24.12.2023</td>\n",
       "      <td>1</td>\n",
       "      <td>IE</td>\n",
       "      <td>0.0</td>\n",
       "    </tr>\n",
       "    <tr>\n",
       "      <th>1</th>\n",
       "      <td>05.09.2023</td>\n",
       "      <td>08.09.2023</td>\n",
       "      <td>2</td>\n",
       "      <td>IE</td>\n",
       "      <td>0.0</td>\n",
       "    </tr>\n",
       "    <tr>\n",
       "      <th>2</th>\n",
       "      <td>16.04.2023</td>\n",
       "      <td>22.04.2023</td>\n",
       "      <td>3</td>\n",
       "      <td>IE</td>\n",
       "      <td>0.0</td>\n",
       "    </tr>\n",
       "    <tr>\n",
       "      <th>3</th>\n",
       "      <td>23.12.2023</td>\n",
       "      <td>24.12.2023</td>\n",
       "      <td>4</td>\n",
       "      <td>IE</td>\n",
       "      <td>0.0</td>\n",
       "    </tr>\n",
       "    <tr>\n",
       "      <th>4</th>\n",
       "      <td>28.01.2023</td>\n",
       "      <td>NaN</td>\n",
       "      <td>5</td>\n",
       "      <td>IE</td>\n",
       "      <td>0.0</td>\n",
       "    </tr>\n",
       "    <tr>\n",
       "      <th>...</th>\n",
       "      <td>...</td>\n",
       "      <td>...</td>\n",
       "      <td>...</td>\n",
       "      <td>...</td>\n",
       "      <td>...</td>\n",
       "    </tr>\n",
       "    <tr>\n",
       "      <th>34995</th>\n",
       "      <td>20.10.2023</td>\n",
       "      <td>31.10.2022</td>\n",
       "      <td>34996</td>\n",
       "      <td>LLC</td>\n",
       "      <td>0.0</td>\n",
       "    </tr>\n",
       "    <tr>\n",
       "      <th>34996</th>\n",
       "      <td>20.04.2023</td>\n",
       "      <td>22.04.2023</td>\n",
       "      <td>34997</td>\n",
       "      <td>LLC</td>\n",
       "      <td>0.0</td>\n",
       "    </tr>\n",
       "    <tr>\n",
       "      <th>34997</th>\n",
       "      <td>24.08.2023</td>\n",
       "      <td>04.09.2023</td>\n",
       "      <td>34998</td>\n",
       "      <td>LLC</td>\n",
       "      <td>0.0</td>\n",
       "    </tr>\n",
       "    <tr>\n",
       "      <th>34998</th>\n",
       "      <td>08.06.2023</td>\n",
       "      <td>18.06.2023</td>\n",
       "      <td>34999</td>\n",
       "      <td>LLC</td>\n",
       "      <td>0.0</td>\n",
       "    </tr>\n",
       "    <tr>\n",
       "      <th>34999</th>\n",
       "      <td>15.05.2023</td>\n",
       "      <td>26.05.2023</td>\n",
       "      <td>35000</td>\n",
       "      <td>LLC</td>\n",
       "      <td>0.0</td>\n",
       "    </tr>\n",
       "  </tbody>\n",
       "</table>\n",
       "<p>35000 rows × 5 columns</p>\n",
       "</div>"
      ],
      "text/plain": [
       "      registration_date activation_date  merchant_id type  ind_frod\n",
       "0            16.12.2023      24.12.2023            1   IE       0.0\n",
       "1            05.09.2023      08.09.2023            2   IE       0.0\n",
       "2            16.04.2023      22.04.2023            3   IE       0.0\n",
       "3            23.12.2023      24.12.2023            4   IE       0.0\n",
       "4            28.01.2023             NaN            5   IE       0.0\n",
       "...                 ...             ...          ...  ...       ...\n",
       "34995        20.10.2023      31.10.2022        34996  LLC       0.0\n",
       "34996        20.04.2023      22.04.2023        34997  LLC       0.0\n",
       "34997        24.08.2023      04.09.2023        34998  LLC       0.0\n",
       "34998        08.06.2023      18.06.2023        34999  LLC       0.0\n",
       "34999        15.05.2023      26.05.2023        35000  LLC       0.0\n",
       "\n",
       "[35000 rows x 5 columns]"
      ]
     },
     "execution_count": 284,
     "metadata": {},
     "output_type": "execute_result"
    }
   ],
   "source": [
    "Antifrauddf"
   ]
  },
  {
   "cell_type": "code",
   "execution_count": null,
   "metadata": {},
   "outputs": [],
   "source": []
  },
  {
   "cell_type": "code",
   "execution_count": 285,
   "metadata": {},
   "outputs": [
    {
     "data": {
      "text/plain": [
       "registration_date        0\n",
       "activation_date      14700\n",
       "merchant_id              0\n",
       "type                     0\n",
       "ind_frod               700\n",
       "dtype: int64"
      ]
     },
     "execution_count": 285,
     "metadata": {},
     "output_type": "execute_result"
    }
   ],
   "source": [
    "Antifrauddf.isna().sum()"
   ]
  },
  {
   "cell_type": "code",
   "execution_count": null,
   "metadata": {},
   "outputs": [],
   "source": []
  },
  {
   "cell_type": "code",
   "execution_count": null,
   "metadata": {},
   "outputs": [],
   "source": []
  },
  {
   "cell_type": "code",
   "execution_count": null,
   "metadata": {},
   "outputs": [],
   "source": []
  },
  {
   "cell_type": "code",
   "execution_count": 286,
   "metadata": {},
   "outputs": [
    {
     "data": {
      "text/plain": [
       "True"
      ]
     },
     "execution_count": 286,
     "metadata": {},
     "output_type": "execute_result"
    }
   ],
   "source": [
    "Antifrauddf.merchant_id.nunique()==Antifrauddf.shape[0] # Нет ли повторных регистраций одного и того же пользователя"
   ]
  },
  {
   "cell_type": "code",
   "execution_count": 287,
   "metadata": {},
   "outputs": [
    {
     "data": {
      "text/html": [
       "<div>\n",
       "<style scoped>\n",
       "    .dataframe tbody tr th:only-of-type {\n",
       "        vertical-align: middle;\n",
       "    }\n",
       "\n",
       "    .dataframe tbody tr th {\n",
       "        vertical-align: top;\n",
       "    }\n",
       "\n",
       "    .dataframe thead th {\n",
       "        text-align: right;\n",
       "    }\n",
       "</style>\n",
       "<table border=\"1\" class=\"dataframe\">\n",
       "  <thead>\n",
       "    <tr style=\"text-align: right;\">\n",
       "      <th></th>\n",
       "      <th>registration_date</th>\n",
       "      <th>activation_date</th>\n",
       "      <th>merchant_id</th>\n",
       "      <th>type</th>\n",
       "      <th>ind_frod</th>\n",
       "    </tr>\n",
       "  </thead>\n",
       "  <tbody>\n",
       "    <tr>\n",
       "      <th>0</th>\n",
       "      <td>16.12.2023</td>\n",
       "      <td>24.12.2023</td>\n",
       "      <td>1</td>\n",
       "      <td>IE</td>\n",
       "      <td>0.0</td>\n",
       "    </tr>\n",
       "    <tr>\n",
       "      <th>1</th>\n",
       "      <td>05.09.2023</td>\n",
       "      <td>08.09.2023</td>\n",
       "      <td>2</td>\n",
       "      <td>IE</td>\n",
       "      <td>0.0</td>\n",
       "    </tr>\n",
       "    <tr>\n",
       "      <th>2</th>\n",
       "      <td>16.04.2023</td>\n",
       "      <td>22.04.2023</td>\n",
       "      <td>3</td>\n",
       "      <td>IE</td>\n",
       "      <td>0.0</td>\n",
       "    </tr>\n",
       "    <tr>\n",
       "      <th>3</th>\n",
       "      <td>23.12.2023</td>\n",
       "      <td>24.12.2023</td>\n",
       "      <td>4</td>\n",
       "      <td>IE</td>\n",
       "      <td>0.0</td>\n",
       "    </tr>\n",
       "    <tr>\n",
       "      <th>4</th>\n",
       "      <td>28.01.2023</td>\n",
       "      <td>NaN</td>\n",
       "      <td>5</td>\n",
       "      <td>IE</td>\n",
       "      <td>0.0</td>\n",
       "    </tr>\n",
       "    <tr>\n",
       "      <th>...</th>\n",
       "      <td>...</td>\n",
       "      <td>...</td>\n",
       "      <td>...</td>\n",
       "      <td>...</td>\n",
       "      <td>...</td>\n",
       "    </tr>\n",
       "    <tr>\n",
       "      <th>34995</th>\n",
       "      <td>20.10.2023</td>\n",
       "      <td>31.10.2022</td>\n",
       "      <td>34996</td>\n",
       "      <td>LLC</td>\n",
       "      <td>0.0</td>\n",
       "    </tr>\n",
       "    <tr>\n",
       "      <th>34996</th>\n",
       "      <td>20.04.2023</td>\n",
       "      <td>22.04.2023</td>\n",
       "      <td>34997</td>\n",
       "      <td>LLC</td>\n",
       "      <td>0.0</td>\n",
       "    </tr>\n",
       "    <tr>\n",
       "      <th>34997</th>\n",
       "      <td>24.08.2023</td>\n",
       "      <td>04.09.2023</td>\n",
       "      <td>34998</td>\n",
       "      <td>LLC</td>\n",
       "      <td>0.0</td>\n",
       "    </tr>\n",
       "    <tr>\n",
       "      <th>34998</th>\n",
       "      <td>08.06.2023</td>\n",
       "      <td>18.06.2023</td>\n",
       "      <td>34999</td>\n",
       "      <td>LLC</td>\n",
       "      <td>0.0</td>\n",
       "    </tr>\n",
       "    <tr>\n",
       "      <th>34999</th>\n",
       "      <td>15.05.2023</td>\n",
       "      <td>26.05.2023</td>\n",
       "      <td>35000</td>\n",
       "      <td>LLC</td>\n",
       "      <td>0.0</td>\n",
       "    </tr>\n",
       "  </tbody>\n",
       "</table>\n",
       "<p>35000 rows × 5 columns</p>\n",
       "</div>"
      ],
      "text/plain": [
       "      registration_date activation_date  merchant_id type  ind_frod\n",
       "0            16.12.2023      24.12.2023            1   IE       0.0\n",
       "1            05.09.2023      08.09.2023            2   IE       0.0\n",
       "2            16.04.2023      22.04.2023            3   IE       0.0\n",
       "3            23.12.2023      24.12.2023            4   IE       0.0\n",
       "4            28.01.2023             NaN            5   IE       0.0\n",
       "...                 ...             ...          ...  ...       ...\n",
       "34995        20.10.2023      31.10.2022        34996  LLC       0.0\n",
       "34996        20.04.2023      22.04.2023        34997  LLC       0.0\n",
       "34997        24.08.2023      04.09.2023        34998  LLC       0.0\n",
       "34998        08.06.2023      18.06.2023        34999  LLC       0.0\n",
       "34999        15.05.2023      26.05.2023        35000  LLC       0.0\n",
       "\n",
       "[35000 rows x 5 columns]"
      ]
     },
     "execution_count": 287,
     "metadata": {},
     "output_type": "execute_result"
    }
   ],
   "source": [
    "Antifrauddf.drop_duplicates() #Дубликатов нет"
   ]
  },
  {
   "cell_type": "code",
   "execution_count": 288,
   "metadata": {},
   "outputs": [
    {
     "data": {
      "text/plain": [
       "registration_date     object\n",
       "activation_date       object\n",
       "merchant_id            int64\n",
       "type                  object\n",
       "ind_frod             float64\n",
       "dtype: object"
      ]
     },
     "execution_count": 288,
     "metadata": {},
     "output_type": "execute_result"
    }
   ],
   "source": [
    "Antifrauddf.dtypes"
   ]
  },
  {
   "cell_type": "markdown",
   "metadata": {},
   "source": [
    "переведем данные с датами во временной формат"
   ]
  },
  {
   "cell_type": "code",
   "execution_count": 289,
   "metadata": {},
   "outputs": [],
   "source": [
    "Antifrauddf['registration_date'] = pd.to_datetime(Antifrauddf['registration_date']) \n",
    "Antifrauddf['activation_date'] = pd.to_datetime(Antifrauddf['activation_date'])"
   ]
  },
  {
   "cell_type": "code",
   "execution_count": 290,
   "metadata": {},
   "outputs": [
    {
     "data": {
      "text/plain": [
       "registration_date    datetime64[ns]\n",
       "activation_date      datetime64[ns]\n",
       "merchant_id                   int64\n",
       "type                         object\n",
       "ind_frod                    float64\n",
       "dtype: object"
      ]
     },
     "execution_count": 290,
     "metadata": {},
     "output_type": "execute_result"
    }
   ],
   "source": [
    "Antifrauddf.dtypes #Теперь у дат временной формат"
   ]
  },
  {
   "cell_type": "code",
   "execution_count": 291,
   "metadata": {},
   "outputs": [
    {
     "data": {
      "text/html": [
       "<div>\n",
       "<style scoped>\n",
       "    .dataframe tbody tr th:only-of-type {\n",
       "        vertical-align: middle;\n",
       "    }\n",
       "\n",
       "    .dataframe tbody tr th {\n",
       "        vertical-align: top;\n",
       "    }\n",
       "\n",
       "    .dataframe thead th {\n",
       "        text-align: right;\n",
       "    }\n",
       "</style>\n",
       "<table border=\"1\" class=\"dataframe\">\n",
       "  <thead>\n",
       "    <tr style=\"text-align: right;\">\n",
       "      <th></th>\n",
       "      <th>registration_date</th>\n",
       "      <th>activation_date</th>\n",
       "      <th>merchant_id</th>\n",
       "      <th>type</th>\n",
       "      <th>ind_frod</th>\n",
       "    </tr>\n",
       "  </thead>\n",
       "  <tbody>\n",
       "    <tr>\n",
       "      <th>0</th>\n",
       "      <td>2023-12-16</td>\n",
       "      <td>2023-12-24</td>\n",
       "      <td>1</td>\n",
       "      <td>IE</td>\n",
       "      <td>0.0</td>\n",
       "    </tr>\n",
       "    <tr>\n",
       "      <th>1</th>\n",
       "      <td>2023-05-09</td>\n",
       "      <td>2023-08-09</td>\n",
       "      <td>2</td>\n",
       "      <td>IE</td>\n",
       "      <td>0.0</td>\n",
       "    </tr>\n",
       "    <tr>\n",
       "      <th>2</th>\n",
       "      <td>2023-04-16</td>\n",
       "      <td>2023-04-22</td>\n",
       "      <td>3</td>\n",
       "      <td>IE</td>\n",
       "      <td>0.0</td>\n",
       "    </tr>\n",
       "    <tr>\n",
       "      <th>3</th>\n",
       "      <td>2023-12-23</td>\n",
       "      <td>2023-12-24</td>\n",
       "      <td>4</td>\n",
       "      <td>IE</td>\n",
       "      <td>0.0</td>\n",
       "    </tr>\n",
       "    <tr>\n",
       "      <th>4</th>\n",
       "      <td>2023-01-28</td>\n",
       "      <td>NaT</td>\n",
       "      <td>5</td>\n",
       "      <td>IE</td>\n",
       "      <td>0.0</td>\n",
       "    </tr>\n",
       "    <tr>\n",
       "      <th>5</th>\n",
       "      <td>2023-05-07</td>\n",
       "      <td>NaT</td>\n",
       "      <td>6</td>\n",
       "      <td>IE</td>\n",
       "      <td>0.0</td>\n",
       "    </tr>\n",
       "    <tr>\n",
       "      <th>6</th>\n",
       "      <td>2023-06-25</td>\n",
       "      <td>NaT</td>\n",
       "      <td>7</td>\n",
       "      <td>IE</td>\n",
       "      <td>0.0</td>\n",
       "    </tr>\n",
       "    <tr>\n",
       "      <th>7</th>\n",
       "      <td>2023-10-27</td>\n",
       "      <td>2023-10-29</td>\n",
       "      <td>8</td>\n",
       "      <td>IE</td>\n",
       "      <td>0.0</td>\n",
       "    </tr>\n",
       "    <tr>\n",
       "      <th>8</th>\n",
       "      <td>2023-06-18</td>\n",
       "      <td>2023-06-24</td>\n",
       "      <td>9</td>\n",
       "      <td>IE</td>\n",
       "      <td>0.0</td>\n",
       "    </tr>\n",
       "    <tr>\n",
       "      <th>9</th>\n",
       "      <td>2023-12-21</td>\n",
       "      <td>NaT</td>\n",
       "      <td>10</td>\n",
       "      <td>IE</td>\n",
       "      <td>0.0</td>\n",
       "    </tr>\n",
       "  </tbody>\n",
       "</table>\n",
       "</div>"
      ],
      "text/plain": [
       "  registration_date activation_date  merchant_id type  ind_frod\n",
       "0        2023-12-16      2023-12-24            1   IE       0.0\n",
       "1        2023-05-09      2023-08-09            2   IE       0.0\n",
       "2        2023-04-16      2023-04-22            3   IE       0.0\n",
       "3        2023-12-23      2023-12-24            4   IE       0.0\n",
       "4        2023-01-28             NaT            5   IE       0.0\n",
       "5        2023-05-07             NaT            6   IE       0.0\n",
       "6        2023-06-25             NaT            7   IE       0.0\n",
       "7        2023-10-27      2023-10-29            8   IE       0.0\n",
       "8        2023-06-18      2023-06-24            9   IE       0.0\n",
       "9        2023-12-21             NaT           10   IE       0.0"
      ]
     },
     "execution_count": 291,
     "metadata": {},
     "output_type": "execute_result"
    }
   ],
   "source": [
    "Antifrauddf.head(10)"
   ]
  },
  {
   "cell_type": "markdown",
   "metadata": {},
   "source": [
    "Уберем значения, где дата активации позже даты регистрации, что невозможно технически"
   ]
  },
  {
   "cell_type": "code",
   "execution_count": 292,
   "metadata": {},
   "outputs": [],
   "source": [
    "Antifraud_filtered = Antifrauddf.drop(Antifrauddf[Antifrauddf['activation_date'] < Antifrauddf['registration_date']].index)"
   ]
  },
  {
   "cell_type": "code",
   "execution_count": 293,
   "metadata": {},
   "outputs": [
    {
     "data": {
      "text/html": [
       "<div>\n",
       "<style scoped>\n",
       "    .dataframe tbody tr th:only-of-type {\n",
       "        vertical-align: middle;\n",
       "    }\n",
       "\n",
       "    .dataframe tbody tr th {\n",
       "        vertical-align: top;\n",
       "    }\n",
       "\n",
       "    .dataframe thead th {\n",
       "        text-align: right;\n",
       "    }\n",
       "</style>\n",
       "<table border=\"1\" class=\"dataframe\">\n",
       "  <thead>\n",
       "    <tr style=\"text-align: right;\">\n",
       "      <th></th>\n",
       "      <th>registration_date</th>\n",
       "      <th>activation_date</th>\n",
       "      <th>merchant_id</th>\n",
       "      <th>type</th>\n",
       "      <th>ind_frod</th>\n",
       "    </tr>\n",
       "  </thead>\n",
       "  <tbody>\n",
       "    <tr>\n",
       "      <th>0</th>\n",
       "      <td>2023-12-16</td>\n",
       "      <td>2023-12-24</td>\n",
       "      <td>1</td>\n",
       "      <td>IE</td>\n",
       "      <td>0.0</td>\n",
       "    </tr>\n",
       "    <tr>\n",
       "      <th>1</th>\n",
       "      <td>2023-05-09</td>\n",
       "      <td>2023-08-09</td>\n",
       "      <td>2</td>\n",
       "      <td>IE</td>\n",
       "      <td>0.0</td>\n",
       "    </tr>\n",
       "    <tr>\n",
       "      <th>2</th>\n",
       "      <td>2023-04-16</td>\n",
       "      <td>2023-04-22</td>\n",
       "      <td>3</td>\n",
       "      <td>IE</td>\n",
       "      <td>0.0</td>\n",
       "    </tr>\n",
       "    <tr>\n",
       "      <th>3</th>\n",
       "      <td>2023-12-23</td>\n",
       "      <td>2023-12-24</td>\n",
       "      <td>4</td>\n",
       "      <td>IE</td>\n",
       "      <td>0.0</td>\n",
       "    </tr>\n",
       "    <tr>\n",
       "      <th>4</th>\n",
       "      <td>2023-01-28</td>\n",
       "      <td>NaT</td>\n",
       "      <td>5</td>\n",
       "      <td>IE</td>\n",
       "      <td>0.0</td>\n",
       "    </tr>\n",
       "    <tr>\n",
       "      <th>...</th>\n",
       "      <td>...</td>\n",
       "      <td>...</td>\n",
       "      <td>...</td>\n",
       "      <td>...</td>\n",
       "      <td>...</td>\n",
       "    </tr>\n",
       "    <tr>\n",
       "      <th>34991</th>\n",
       "      <td>2023-12-24</td>\n",
       "      <td>NaT</td>\n",
       "      <td>34992</td>\n",
       "      <td>LLC</td>\n",
       "      <td>1.0</td>\n",
       "    </tr>\n",
       "    <tr>\n",
       "      <th>34992</th>\n",
       "      <td>2023-12-16</td>\n",
       "      <td>2023-12-23</td>\n",
       "      <td>34993</td>\n",
       "      <td>LLC</td>\n",
       "      <td>0.0</td>\n",
       "    </tr>\n",
       "    <tr>\n",
       "      <th>34994</th>\n",
       "      <td>2023-06-14</td>\n",
       "      <td>NaT</td>\n",
       "      <td>34995</td>\n",
       "      <td>LLC</td>\n",
       "      <td>0.0</td>\n",
       "    </tr>\n",
       "    <tr>\n",
       "      <th>34996</th>\n",
       "      <td>2023-04-20</td>\n",
       "      <td>2023-04-22</td>\n",
       "      <td>34997</td>\n",
       "      <td>LLC</td>\n",
       "      <td>0.0</td>\n",
       "    </tr>\n",
       "    <tr>\n",
       "      <th>34999</th>\n",
       "      <td>2023-05-15</td>\n",
       "      <td>2023-05-26</td>\n",
       "      <td>35000</td>\n",
       "      <td>LLC</td>\n",
       "      <td>0.0</td>\n",
       "    </tr>\n",
       "  </tbody>\n",
       "</table>\n",
       "<p>29879 rows × 5 columns</p>\n",
       "</div>"
      ],
      "text/plain": [
       "      registration_date activation_date  merchant_id type  ind_frod\n",
       "0            2023-12-16      2023-12-24            1   IE       0.0\n",
       "1            2023-05-09      2023-08-09            2   IE       0.0\n",
       "2            2023-04-16      2023-04-22            3   IE       0.0\n",
       "3            2023-12-23      2023-12-24            4   IE       0.0\n",
       "4            2023-01-28             NaT            5   IE       0.0\n",
       "...                 ...             ...          ...  ...       ...\n",
       "34991        2023-12-24             NaT        34992  LLC       1.0\n",
       "34992        2023-12-16      2023-12-23        34993  LLC       0.0\n",
       "34994        2023-06-14             NaT        34995  LLC       0.0\n",
       "34996        2023-04-20      2023-04-22        34997  LLC       0.0\n",
       "34999        2023-05-15      2023-05-26        35000  LLC       0.0\n",
       "\n",
       "[29879 rows x 5 columns]"
      ]
     },
     "execution_count": 293,
     "metadata": {},
     "output_type": "execute_result"
    }
   ],
   "source": [
    "Antifraud_filtered"
   ]
  },
  {
   "cell_type": "markdown",
   "metadata": {},
   "source": [
    "#Также проверим, когда начались и закончились наши наблюдения за поведением продавцов"
   ]
  },
  {
   "cell_type": "code",
   "execution_count": 294,
   "metadata": {},
   "outputs": [
    {
     "name": "stdout",
     "output_type": "stream",
     "text": [
      "Наблюдения за регистрацией начались 1970-01-01 00:00:00\n",
      "Наблюдения за регистрацией закончились 2023-12-31 00:00:00\n",
      "Наблюдения за активацией начались 2023-01-04 00:00:00\n",
      "Наблюдения за активацией закончились 2024-11-01 00:00:00\n"
     ]
    }
   ],
   "source": [
    "print (\"Наблюдения за регистрацией начались\", Antifraud_filtered.registration_date.min()) \n",
    "print (\"Наблюдения за регистрацией закончились\", Antifraud_filtered.registration_date.max()) \n",
    "print(\"Наблюдения за активацией начались\", Antifraud_filtered.activation_date.min())\n",
    "print(\"Наблюдения за активацией закончились\", Antifraud_filtered.activation_date.max())"
   ]
  },
  {
   "cell_type": "markdown",
   "metadata": {},
   "source": [
    "Последняя запись в датасете о регистрациях  не вызывает подозрений, но начались наблюдения довольно подозрительно рано, настолько что не существовало технологий, фиксирующих это. Также магическим образом часть пользователей получило активацию в будущем, под конец 2024 года"
   ]
  },
  {
   "cell_type": "code",
   "execution_count": 295,
   "metadata": {},
   "outputs": [
    {
     "data": {
      "text/plain": [
       "<matplotlib.axes._subplots.AxesSubplot at 0x7fcc99f43c18>"
      ]
     },
     "execution_count": 295,
     "metadata": {},
     "output_type": "execute_result"
    },
    {
     "data": {
      "image/png": "[encoded data removed]",
      "text/plain": [
       "<Figure size 432x288 with 1 Axes>"
      ]
     },
     "metadata": {
      "needs_background": "light"
     },
     "output_type": "display_data"
    }
   ],
   "source": [
    "registration_counts = Antifraud_filtered.groupby('registration_date')\\\n",
    "    .agg({'merchant_id': 'count'})\\\n",
    "    .rename(columns={'merchant_id': 'registrations'})\\\n",
    "    .sort_values(by='registration_date', ascending=True)\\\n",
    "    .reset_index()\n",
    "registration_counts\n",
    "sns.lineplot(data=registration_counts, x=\"registration_date\", y=\"registrations\")"
   ]
  },
  {
   "cell_type": "markdown",
   "metadata": {},
   "source": [
    "    Распределение данных до периода после 2020 года говорит о искуственной природе и имеем право допустить, что это является аномалией,поэтому принято решение откинуть все наблюдения после 2020"
   ]
  },
  {
   "cell_type": "code",
   "execution_count": 296,
   "metadata": {},
   "outputs": [
    {
     "data": {
      "text/plain": [
       "<matplotlib.axes._subplots.AxesSubplot at 0x7fcc9a08cef0>"
      ]
     },
     "execution_count": 296,
     "metadata": {},
     "output_type": "execute_result"
    },
    {
     "data": {
      "image/png": "[encoded data removed]",
      "text/plain": [
       "<Figure size 432x288 with 1 Axes>"
      ]
     },
     "metadata": {
      "needs_background": "light"
     },
     "output_type": "display_data"
    }
   ],
   "source": [
    "registration_counts=registration_counts.query('registration_date>\"2019-01-01\"') \n",
    "sns.lineplot(data=registration_counts, x=\"registration_date\", y=\"registrations\")"
   ]
  },
  {
   "cell_type": "code",
   "execution_count": 297,
   "metadata": {},
   "outputs": [
    {
     "data": {
      "text/plain": [
       "<matplotlib.axes._subplots.AxesSubplot at 0x7fcc99e87860>"
      ]
     },
     "execution_count": 297,
     "metadata": {},
     "output_type": "execute_result"
    },
    {
     "data": {
      "image/png": "[encoded data removed]",
      "text/plain": [
       "<Figure size 432x288 with 1 Axes>"
      ]
     },
     "metadata": {
      "needs_background": "light"
     },
     "output_type": "display_data"
    }
   ],
   "source": [
    "# Посмотрим, что с датами активации, там тоже были проблемы и очевидные аномалии\n",
    "registration_counts = Antifraud_filtered.groupby('activation_date')\\\n",
    "    .agg({'merchant_id': 'count'})\\\n",
    "    .rename(columns={'merchant_id': 'events'})\\\n",
    "    .sort_values(by='activation_date', ascending=True)\\\n",
    "    .reset_index()\n",
    "registration_counts\n",
    "sns.lineplot(data=registration_counts, x=\"activation_date\", y=\"events\")"
   ]
  },
  {
   "cell_type": "markdown",
   "metadata": {},
   "source": [
    "Даты после января 2024 лучше выкинуть, но заложим с запасом 1 месяц, поскольку регистрация может длиться больше\n",
    "registration_counts=registration_counts.query('activation_date>\"2024-02-01\"')"
   ]
  },
  {
   "cell_type": "code",
   "execution_count": 298,
   "metadata": {},
   "outputs": [
    {
     "data": {
      "text/plain": [
       "<matplotlib.axes._subplots.AxesSubplot at 0x7fcc99e5add8>"
      ]
     },
     "execution_count": 298,
     "metadata": {},
     "output_type": "execute_result"
    },
    {
     "data": {
      "image/png": "[encoded data removed]",
      "text/plain": [
       "<Figure size 432x288 with 1 Axes>"
      ]
     },
     "metadata": {
      "needs_background": "light"
     },
     "output_type": "display_data"
    }
   ],
   "source": [
    "registration_counts=registration_counts.query('activation_date<\"2024-02-01\"')\n",
    "sns.lineplot(data=registration_counts, x=\"activation_date\", y=\"events\")"
   ]
  },
  {
   "cell_type": "markdown",
   "metadata": {},
   "source": [
    "Теперь мы видим, что диапазон примерно  в период с начала 2023 по начало 2024"
   ]
  },
  {
   "cell_type": "code",
   "execution_count": 299,
   "metadata": {},
   "outputs": [
    {
     "data": {
      "text/html": [
       "<div>\n",
       "<style scoped>\n",
       "    .dataframe tbody tr th:only-of-type {\n",
       "        vertical-align: middle;\n",
       "    }\n",
       "\n",
       "    .dataframe tbody tr th {\n",
       "        vertical-align: top;\n",
       "    }\n",
       "\n",
       "    .dataframe thead th {\n",
       "        text-align: right;\n",
       "    }\n",
       "</style>\n",
       "<table border=\"1\" class=\"dataframe\">\n",
       "  <thead>\n",
       "    <tr style=\"text-align: right;\">\n",
       "      <th></th>\n",
       "      <th>registration_date</th>\n",
       "      <th>activation_date</th>\n",
       "      <th>merchant_id</th>\n",
       "      <th>type</th>\n",
       "      <th>ind_frod</th>\n",
       "    </tr>\n",
       "  </thead>\n",
       "  <tbody>\n",
       "    <tr>\n",
       "      <th>4</th>\n",
       "      <td>2023-01-28</td>\n",
       "      <td>NaT</td>\n",
       "      <td>5</td>\n",
       "      <td>IE</td>\n",
       "      <td>0.0</td>\n",
       "    </tr>\n",
       "    <tr>\n",
       "      <th>5</th>\n",
       "      <td>2023-05-07</td>\n",
       "      <td>NaT</td>\n",
       "      <td>6</td>\n",
       "      <td>IE</td>\n",
       "      <td>0.0</td>\n",
       "    </tr>\n",
       "    <tr>\n",
       "      <th>6</th>\n",
       "      <td>2023-06-25</td>\n",
       "      <td>NaT</td>\n",
       "      <td>7</td>\n",
       "      <td>IE</td>\n",
       "      <td>0.0</td>\n",
       "    </tr>\n",
       "    <tr>\n",
       "      <th>9</th>\n",
       "      <td>2023-12-21</td>\n",
       "      <td>NaT</td>\n",
       "      <td>10</td>\n",
       "      <td>IE</td>\n",
       "      <td>0.0</td>\n",
       "    </tr>\n",
       "    <tr>\n",
       "      <th>10</th>\n",
       "      <td>2023-06-13</td>\n",
       "      <td>NaT</td>\n",
       "      <td>11</td>\n",
       "      <td>IE</td>\n",
       "      <td>0.0</td>\n",
       "    </tr>\n",
       "    <tr>\n",
       "      <th>...</th>\n",
       "      <td>...</td>\n",
       "      <td>...</td>\n",
       "      <td>...</td>\n",
       "      <td>...</td>\n",
       "      <td>...</td>\n",
       "    </tr>\n",
       "    <tr>\n",
       "      <th>34985</th>\n",
       "      <td>2023-11-21</td>\n",
       "      <td>NaT</td>\n",
       "      <td>34986</td>\n",
       "      <td>LLC</td>\n",
       "      <td>0.0</td>\n",
       "    </tr>\n",
       "    <tr>\n",
       "      <th>34986</th>\n",
       "      <td>2023-10-05</td>\n",
       "      <td>NaT</td>\n",
       "      <td>34987</td>\n",
       "      <td>LLC</td>\n",
       "      <td>0.0</td>\n",
       "    </tr>\n",
       "    <tr>\n",
       "      <th>34987</th>\n",
       "      <td>2023-04-04</td>\n",
       "      <td>NaT</td>\n",
       "      <td>34988</td>\n",
       "      <td>LLC</td>\n",
       "      <td>0.0</td>\n",
       "    </tr>\n",
       "    <tr>\n",
       "      <th>34991</th>\n",
       "      <td>2023-12-24</td>\n",
       "      <td>NaT</td>\n",
       "      <td>34992</td>\n",
       "      <td>LLC</td>\n",
       "      <td>1.0</td>\n",
       "    </tr>\n",
       "    <tr>\n",
       "      <th>34994</th>\n",
       "      <td>2023-06-14</td>\n",
       "      <td>NaT</td>\n",
       "      <td>34995</td>\n",
       "      <td>LLC</td>\n",
       "      <td>0.0</td>\n",
       "    </tr>\n",
       "  </tbody>\n",
       "</table>\n",
       "<p>14989 rows × 5 columns</p>\n",
       "</div>"
      ],
      "text/plain": [
       "      registration_date activation_date  merchant_id type  ind_frod\n",
       "4            2023-01-28             NaT            5   IE       0.0\n",
       "5            2023-05-07             NaT            6   IE       0.0\n",
       "6            2023-06-25             NaT            7   IE       0.0\n",
       "9            2023-12-21             NaT           10   IE       0.0\n",
       "10           2023-06-13             NaT           11   IE       0.0\n",
       "...                 ...             ...          ...  ...       ...\n",
       "34985        2023-11-21             NaT        34986  LLC       0.0\n",
       "34986        2023-10-05             NaT        34987  LLC       0.0\n",
       "34987        2023-04-04             NaT        34988  LLC       0.0\n",
       "34991        2023-12-24             NaT        34992  LLC       1.0\n",
       "34994        2023-06-14             NaT        34995  LLC       0.0\n",
       "\n",
       "[14989 rows x 5 columns]"
      ]
     },
     "execution_count": 299,
     "metadata": {},
     "output_type": "execute_result"
    }
   ],
   "source": [
    "Antifraud_filtered=Antifraud_filtered.query('registration_date>\"2023-01-01\"' )\n",
    "Antifraud_filtered = Antifrauddf.drop(Antifrauddf[Antifrauddf['activation_date'] < \"2024-02-01\"].index) # Убираем значения после февраля 2024, оставляем Null\n",
    "Antifraud_filtered # Убираем значения после февраля 2024 и до , оставляем Null\n",
    "Antifraud_filtered"
   ]
  },
  {
   "cell_type": "markdown",
   "metadata": {},
   "source": [
    "### Основные аномалии мы убрали Теперь можно приступить к дизайну AB теста, выбором контрольной и тестовой группы, выбором метрик "
   ]
  },
  {
   "cell_type": "markdown",
   "metadata": {},
   "source": [
    "Исходя из структуры данных, мне представилось интересным проанализировать метрику времени между регистрацией до активацией, также отдельно стоит рассмотреть случай, в котором активация еще не состоялась, и какая доля мошенников будет в этой группе. Сравним эффективность определения мошенников ручным способом, разделим на группы и проведем стат. тест"
   ]
  },
  {
   "cell_type": "markdown",
   "metadata": {},
   "source": [
    "Метрика времени между регистрацией и активацией была выбрана также потому, что мошенник определялся вручную, то есть можно не исключать человеческий фактор, где могли за короткое время проверить и активировать пользователя, оказавшегося мошенником."
   ]
  },
  {
   "cell_type": "code",
   "execution_count": 300,
   "metadata": {},
   "outputs": [],
   "source": [
    "Antifraud_filtered = Antifraud_filtered.dropna(subset=['ind_frod']) \n",
    "#Уберем Nan значения для стооблца Ind_frod, поскольку в нашем случае эти данные нельзя использовать как полезные"
   ]
  },
  {
   "cell_type": "code",
   "execution_count": 301,
   "metadata": {},
   "outputs": [
    {
     "data": {
      "text/html": [
       "<div>\n",
       "<style scoped>\n",
       "    .dataframe tbody tr th:only-of-type {\n",
       "        vertical-align: middle;\n",
       "    }\n",
       "\n",
       "    .dataframe tbody tr th {\n",
       "        vertical-align: top;\n",
       "    }\n",
       "\n",
       "    .dataframe thead th {\n",
       "        text-align: right;\n",
       "    }\n",
       "</style>\n",
       "<table border=\"1\" class=\"dataframe\">\n",
       "  <thead>\n",
       "    <tr style=\"text-align: right;\">\n",
       "      <th></th>\n",
       "      <th>registration_date</th>\n",
       "      <th>activation_date</th>\n",
       "      <th>merchant_id</th>\n",
       "      <th>type</th>\n",
       "      <th>ind_frod</th>\n",
       "      <th>time_to_activation</th>\n",
       "    </tr>\n",
       "  </thead>\n",
       "  <tbody>\n",
       "    <tr>\n",
       "      <th>4</th>\n",
       "      <td>2023-01-28</td>\n",
       "      <td>NaT</td>\n",
       "      <td>5</td>\n",
       "      <td>IE</td>\n",
       "      <td>0.0</td>\n",
       "      <td>NaN</td>\n",
       "    </tr>\n",
       "    <tr>\n",
       "      <th>5</th>\n",
       "      <td>2023-05-07</td>\n",
       "      <td>NaT</td>\n",
       "      <td>6</td>\n",
       "      <td>IE</td>\n",
       "      <td>0.0</td>\n",
       "      <td>NaN</td>\n",
       "    </tr>\n",
       "    <tr>\n",
       "      <th>6</th>\n",
       "      <td>2023-06-25</td>\n",
       "      <td>NaT</td>\n",
       "      <td>7</td>\n",
       "      <td>IE</td>\n",
       "      <td>0.0</td>\n",
       "      <td>NaN</td>\n",
       "    </tr>\n",
       "    <tr>\n",
       "      <th>9</th>\n",
       "      <td>2023-12-21</td>\n",
       "      <td>NaT</td>\n",
       "      <td>10</td>\n",
       "      <td>IE</td>\n",
       "      <td>0.0</td>\n",
       "      <td>NaN</td>\n",
       "    </tr>\n",
       "    <tr>\n",
       "      <th>10</th>\n",
       "      <td>2023-06-13</td>\n",
       "      <td>NaT</td>\n",
       "      <td>11</td>\n",
       "      <td>IE</td>\n",
       "      <td>0.0</td>\n",
       "      <td>NaN</td>\n",
       "    </tr>\n",
       "    <tr>\n",
       "      <th>...</th>\n",
       "      <td>...</td>\n",
       "      <td>...</td>\n",
       "      <td>...</td>\n",
       "      <td>...</td>\n",
       "      <td>...</td>\n",
       "      <td>...</td>\n",
       "    </tr>\n",
       "    <tr>\n",
       "      <th>34985</th>\n",
       "      <td>2023-11-21</td>\n",
       "      <td>NaT</td>\n",
       "      <td>34986</td>\n",
       "      <td>LLC</td>\n",
       "      <td>0.0</td>\n",
       "      <td>NaN</td>\n",
       "    </tr>\n",
       "    <tr>\n",
       "      <th>34986</th>\n",
       "      <td>2023-10-05</td>\n",
       "      <td>NaT</td>\n",
       "      <td>34987</td>\n",
       "      <td>LLC</td>\n",
       "      <td>0.0</td>\n",
       "      <td>NaN</td>\n",
       "    </tr>\n",
       "    <tr>\n",
       "      <th>34987</th>\n",
       "      <td>2023-04-04</td>\n",
       "      <td>NaT</td>\n",
       "      <td>34988</td>\n",
       "      <td>LLC</td>\n",
       "      <td>0.0</td>\n",
       "      <td>NaN</td>\n",
       "    </tr>\n",
       "    <tr>\n",
       "      <th>34991</th>\n",
       "      <td>2023-12-24</td>\n",
       "      <td>NaT</td>\n",
       "      <td>34992</td>\n",
       "      <td>LLC</td>\n",
       "      <td>1.0</td>\n",
       "      <td>NaN</td>\n",
       "    </tr>\n",
       "    <tr>\n",
       "      <th>34994</th>\n",
       "      <td>2023-06-14</td>\n",
       "      <td>NaT</td>\n",
       "      <td>34995</td>\n",
       "      <td>LLC</td>\n",
       "      <td>0.0</td>\n",
       "      <td>NaN</td>\n",
       "    </tr>\n",
       "  </tbody>\n",
       "</table>\n",
       "<p>14685 rows × 6 columns</p>\n",
       "</div>"
      ],
      "text/plain": [
       "      registration_date activation_date  merchant_id type  ind_frod  \\\n",
       "4            2023-01-28             NaT            5   IE       0.0   \n",
       "5            2023-05-07             NaT            6   IE       0.0   \n",
       "6            2023-06-25             NaT            7   IE       0.0   \n",
       "9            2023-12-21             NaT           10   IE       0.0   \n",
       "10           2023-06-13             NaT           11   IE       0.0   \n",
       "...                 ...             ...          ...  ...       ...   \n",
       "34985        2023-11-21             NaT        34986  LLC       0.0   \n",
       "34986        2023-10-05             NaT        34987  LLC       0.0   \n",
       "34987        2023-04-04             NaT        34988  LLC       0.0   \n",
       "34991        2023-12-24             NaT        34992  LLC       1.0   \n",
       "34994        2023-06-14             NaT        34995  LLC       0.0   \n",
       "\n",
       "       time_to_activation  \n",
       "4                     NaN  \n",
       "5                     NaN  \n",
       "6                     NaN  \n",
       "9                     NaN  \n",
       "10                    NaN  \n",
       "...                   ...  \n",
       "34985                 NaN  \n",
       "34986                 NaN  \n",
       "34987                 NaN  \n",
       "34991                 NaN  \n",
       "34994                 NaN  \n",
       "\n",
       "[14685 rows x 6 columns]"
      ]
     },
     "execution_count": 301,
     "metadata": {},
     "output_type": "execute_result"
    }
   ],
   "source": [
    "Antifraud_filtered['time_to_activation'] = (Antifraud_filtered['activation_date'] - Antifraud_filtered['registration_date']).dt.days\n",
    "Antifraud_filtered # расчет метрики"
   ]
  },
  {
   "cell_type": "code",
   "execution_count": 302,
   "metadata": {},
   "outputs": [
    {
     "data": {
      "text/html": [
       "<div>\n",
       "<style scoped>\n",
       "    .dataframe tbody tr th:only-of-type {\n",
       "        vertical-align: middle;\n",
       "    }\n",
       "\n",
       "    .dataframe tbody tr th {\n",
       "        vertical-align: top;\n",
       "    }\n",
       "\n",
       "    .dataframe thead th {\n",
       "        text-align: right;\n",
       "    }\n",
       "</style>\n",
       "<table border=\"1\" class=\"dataframe\">\n",
       "  <thead>\n",
       "    <tr style=\"text-align: right;\">\n",
       "      <th></th>\n",
       "      <th>registration_date</th>\n",
       "      <th>activation_date</th>\n",
       "      <th>merchant_id</th>\n",
       "      <th>type</th>\n",
       "      <th>ind_frod</th>\n",
       "      <th>time_to_activation</th>\n",
       "    </tr>\n",
       "  </thead>\n",
       "  <tbody>\n",
       "    <tr>\n",
       "      <th>28</th>\n",
       "      <td>2023-12-29</td>\n",
       "      <td>2024-06-01</td>\n",
       "      <td>29</td>\n",
       "      <td>IE</td>\n",
       "      <td>1.0</td>\n",
       "      <td>155.0</td>\n",
       "    </tr>\n",
       "    <tr>\n",
       "      <th>120</th>\n",
       "      <td>2023-12-23</td>\n",
       "      <td>2024-02-01</td>\n",
       "      <td>121</td>\n",
       "      <td>IE</td>\n",
       "      <td>0.0</td>\n",
       "      <td>40.0</td>\n",
       "    </tr>\n",
       "    <tr>\n",
       "      <th>443</th>\n",
       "      <td>2023-12-27</td>\n",
       "      <td>2024-03-01</td>\n",
       "      <td>444</td>\n",
       "      <td>IE</td>\n",
       "      <td>0.0</td>\n",
       "      <td>65.0</td>\n",
       "    </tr>\n",
       "    <tr>\n",
       "      <th>951</th>\n",
       "      <td>2023-12-29</td>\n",
       "      <td>2024-05-01</td>\n",
       "      <td>952</td>\n",
       "      <td>IE</td>\n",
       "      <td>0.0</td>\n",
       "      <td>124.0</td>\n",
       "    </tr>\n",
       "    <tr>\n",
       "      <th>1233</th>\n",
       "      <td>2023-12-29</td>\n",
       "      <td>2024-04-01</td>\n",
       "      <td>1234</td>\n",
       "      <td>IE</td>\n",
       "      <td>0.0</td>\n",
       "      <td>94.0</td>\n",
       "    </tr>\n",
       "    <tr>\n",
       "      <th>...</th>\n",
       "      <td>...</td>\n",
       "      <td>...</td>\n",
       "      <td>...</td>\n",
       "      <td>...</td>\n",
       "      <td>...</td>\n",
       "      <td>...</td>\n",
       "    </tr>\n",
       "    <tr>\n",
       "      <th>34679</th>\n",
       "      <td>2023-12-30</td>\n",
       "      <td>2024-03-01</td>\n",
       "      <td>34680</td>\n",
       "      <td>LLC</td>\n",
       "      <td>0.0</td>\n",
       "      <td>62.0</td>\n",
       "    </tr>\n",
       "    <tr>\n",
       "      <th>34700</th>\n",
       "      <td>2023-12-31</td>\n",
       "      <td>2024-05-01</td>\n",
       "      <td>34701</td>\n",
       "      <td>LLC</td>\n",
       "      <td>0.0</td>\n",
       "      <td>122.0</td>\n",
       "    </tr>\n",
       "    <tr>\n",
       "      <th>34771</th>\n",
       "      <td>2023-12-29</td>\n",
       "      <td>2024-03-01</td>\n",
       "      <td>34772</td>\n",
       "      <td>LLC</td>\n",
       "      <td>0.0</td>\n",
       "      <td>63.0</td>\n",
       "    </tr>\n",
       "    <tr>\n",
       "      <th>34890</th>\n",
       "      <td>2023-08-23</td>\n",
       "      <td>2024-08-30</td>\n",
       "      <td>34891</td>\n",
       "      <td>LLC</td>\n",
       "      <td>0.0</td>\n",
       "      <td>373.0</td>\n",
       "    </tr>\n",
       "    <tr>\n",
       "      <th>34973</th>\n",
       "      <td>2023-12-27</td>\n",
       "      <td>2024-05-01</td>\n",
       "      <td>34974</td>\n",
       "      <td>LLC</td>\n",
       "      <td>0.0</td>\n",
       "      <td>126.0</td>\n",
       "    </tr>\n",
       "  </tbody>\n",
       "</table>\n",
       "<p>286 rows × 6 columns</p>\n",
       "</div>"
      ],
      "text/plain": [
       "      registration_date activation_date  merchant_id type  ind_frod  \\\n",
       "28           2023-12-29      2024-06-01           29   IE       1.0   \n",
       "120          2023-12-23      2024-02-01          121   IE       0.0   \n",
       "443          2023-12-27      2024-03-01          444   IE       0.0   \n",
       "951          2023-12-29      2024-05-01          952   IE       0.0   \n",
       "1233         2023-12-29      2024-04-01         1234   IE       0.0   \n",
       "...                 ...             ...          ...  ...       ...   \n",
       "34679        2023-12-30      2024-03-01        34680  LLC       0.0   \n",
       "34700        2023-12-31      2024-05-01        34701  LLC       0.0   \n",
       "34771        2023-12-29      2024-03-01        34772  LLC       0.0   \n",
       "34890        2023-08-23      2024-08-30        34891  LLC       0.0   \n",
       "34973        2023-12-27      2024-05-01        34974  LLC       0.0   \n",
       "\n",
       "       time_to_activation  \n",
       "28                  155.0  \n",
       "120                  40.0  \n",
       "443                  65.0  \n",
       "951                 124.0  \n",
       "1233                 94.0  \n",
       "...                   ...  \n",
       "34679                62.0  \n",
       "34700               122.0  \n",
       "34771                63.0  \n",
       "34890               373.0  \n",
       "34973               126.0  \n",
       "\n",
       "[286 rows x 6 columns]"
      ]
     },
     "execution_count": 302,
     "metadata": {},
     "output_type": "execute_result"
    }
   ],
   "source": [
    "Antifraud_split1 = Antifraud_filtered[Antifraud_filtered['activation_date'].notna()]\n",
    "Antifraud_split1"
   ]
  },
  {
   "cell_type": "code",
   "execution_count": 303,
   "metadata": {},
   "outputs": [],
   "source": [
    "threshold = Antifraud_split1 ['time_to_activation'].median() #Поделим  значение на медианное"
   ]
  },
  {
   "cell_type": "markdown",
   "metadata": {},
   "source": [
    "Разделим покупателей на контрольную и тестовую группу, где \n",
    "Контрольная группа: Группа с \"быстрой\" активацией.\n",
    "Тестовая группа: Группа с \"медленной\" активацией."
   ]
  },
  {
   "cell_type": "code",
   "execution_count": 304,
   "metadata": {},
   "outputs": [],
   "source": [
    "Antifraud_split1['duration'] = np.where(Antifraud_split1['time_to_activation'] <= threshold, 'fast_activation', 'slow_activation')  "
   ]
  },
  {
   "cell_type": "code",
   "execution_count": 305,
   "metadata": {},
   "outputs": [
    {
     "data": {
      "text/html": [
       "<div>\n",
       "<style scoped>\n",
       "    .dataframe tbody tr th:only-of-type {\n",
       "        vertical-align: middle;\n",
       "    }\n",
       "\n",
       "    .dataframe tbody tr th {\n",
       "        vertical-align: top;\n",
       "    }\n",
       "\n",
       "    .dataframe thead th {\n",
       "        text-align: right;\n",
       "    }\n",
       "</style>\n",
       "<table border=\"1\" class=\"dataframe\">\n",
       "  <thead>\n",
       "    <tr style=\"text-align: right;\">\n",
       "      <th></th>\n",
       "      <th>registration_date</th>\n",
       "      <th>activation_date</th>\n",
       "      <th>merchant_id</th>\n",
       "      <th>type</th>\n",
       "      <th>ind_frod</th>\n",
       "      <th>time_to_activation</th>\n",
       "      <th>duration</th>\n",
       "    </tr>\n",
       "  </thead>\n",
       "  <tbody>\n",
       "    <tr>\n",
       "      <th>28</th>\n",
       "      <td>2023-12-29</td>\n",
       "      <td>2024-06-01</td>\n",
       "      <td>29</td>\n",
       "      <td>IE</td>\n",
       "      <td>1.0</td>\n",
       "      <td>155.0</td>\n",
       "      <td>slow_activation</td>\n",
       "    </tr>\n",
       "    <tr>\n",
       "      <th>120</th>\n",
       "      <td>2023-12-23</td>\n",
       "      <td>2024-02-01</td>\n",
       "      <td>121</td>\n",
       "      <td>IE</td>\n",
       "      <td>0.0</td>\n",
       "      <td>40.0</td>\n",
       "      <td>fast_activation</td>\n",
       "    </tr>\n",
       "    <tr>\n",
       "      <th>443</th>\n",
       "      <td>2023-12-27</td>\n",
       "      <td>2024-03-01</td>\n",
       "      <td>444</td>\n",
       "      <td>IE</td>\n",
       "      <td>0.0</td>\n",
       "      <td>65.0</td>\n",
       "      <td>fast_activation</td>\n",
       "    </tr>\n",
       "    <tr>\n",
       "      <th>951</th>\n",
       "      <td>2023-12-29</td>\n",
       "      <td>2024-05-01</td>\n",
       "      <td>952</td>\n",
       "      <td>IE</td>\n",
       "      <td>0.0</td>\n",
       "      <td>124.0</td>\n",
       "      <td>slow_activation</td>\n",
       "    </tr>\n",
       "    <tr>\n",
       "      <th>1233</th>\n",
       "      <td>2023-12-29</td>\n",
       "      <td>2024-04-01</td>\n",
       "      <td>1234</td>\n",
       "      <td>IE</td>\n",
       "      <td>0.0</td>\n",
       "      <td>94.0</td>\n",
       "      <td>fast_activation</td>\n",
       "    </tr>\n",
       "    <tr>\n",
       "      <th>...</th>\n",
       "      <td>...</td>\n",
       "      <td>...</td>\n",
       "      <td>...</td>\n",
       "      <td>...</td>\n",
       "      <td>...</td>\n",
       "      <td>...</td>\n",
       "      <td>...</td>\n",
       "    </tr>\n",
       "    <tr>\n",
       "      <th>34679</th>\n",
       "      <td>2023-12-30</td>\n",
       "      <td>2024-03-01</td>\n",
       "      <td>34680</td>\n",
       "      <td>LLC</td>\n",
       "      <td>0.0</td>\n",
       "      <td>62.0</td>\n",
       "      <td>fast_activation</td>\n",
       "    </tr>\n",
       "    <tr>\n",
       "      <th>34700</th>\n",
       "      <td>2023-12-31</td>\n",
       "      <td>2024-05-01</td>\n",
       "      <td>34701</td>\n",
       "      <td>LLC</td>\n",
       "      <td>0.0</td>\n",
       "      <td>122.0</td>\n",
       "      <td>fast_activation</td>\n",
       "    </tr>\n",
       "    <tr>\n",
       "      <th>34771</th>\n",
       "      <td>2023-12-29</td>\n",
       "      <td>2024-03-01</td>\n",
       "      <td>34772</td>\n",
       "      <td>LLC</td>\n",
       "      <td>0.0</td>\n",
       "      <td>63.0</td>\n",
       "      <td>fast_activation</td>\n",
       "    </tr>\n",
       "    <tr>\n",
       "      <th>34890</th>\n",
       "      <td>2023-08-23</td>\n",
       "      <td>2024-08-30</td>\n",
       "      <td>34891</td>\n",
       "      <td>LLC</td>\n",
       "      <td>0.0</td>\n",
       "      <td>373.0</td>\n",
       "      <td>slow_activation</td>\n",
       "    </tr>\n",
       "    <tr>\n",
       "      <th>34973</th>\n",
       "      <td>2023-12-27</td>\n",
       "      <td>2024-05-01</td>\n",
       "      <td>34974</td>\n",
       "      <td>LLC</td>\n",
       "      <td>0.0</td>\n",
       "      <td>126.0</td>\n",
       "      <td>slow_activation</td>\n",
       "    </tr>\n",
       "  </tbody>\n",
       "</table>\n",
       "<p>286 rows × 7 columns</p>\n",
       "</div>"
      ],
      "text/plain": [
       "      registration_date activation_date  merchant_id type  ind_frod  \\\n",
       "28           2023-12-29      2024-06-01           29   IE       1.0   \n",
       "120          2023-12-23      2024-02-01          121   IE       0.0   \n",
       "443          2023-12-27      2024-03-01          444   IE       0.0   \n",
       "951          2023-12-29      2024-05-01          952   IE       0.0   \n",
       "1233         2023-12-29      2024-04-01         1234   IE       0.0   \n",
       "...                 ...             ...          ...  ...       ...   \n",
       "34679        2023-12-30      2024-03-01        34680  LLC       0.0   \n",
       "34700        2023-12-31      2024-05-01        34701  LLC       0.0   \n",
       "34771        2023-12-29      2024-03-01        34772  LLC       0.0   \n",
       "34890        2023-08-23      2024-08-30        34891  LLC       0.0   \n",
       "34973        2023-12-27      2024-05-01        34974  LLC       0.0   \n",
       "\n",
       "       time_to_activation         duration  \n",
       "28                  155.0  slow_activation  \n",
       "120                  40.0  fast_activation  \n",
       "443                  65.0  fast_activation  \n",
       "951                 124.0  slow_activation  \n",
       "1233                 94.0  fast_activation  \n",
       "...                   ...              ...  \n",
       "34679                62.0  fast_activation  \n",
       "34700               122.0  fast_activation  \n",
       "34771                63.0  fast_activation  \n",
       "34890               373.0  slow_activation  \n",
       "34973               126.0  slow_activation  \n",
       "\n",
       "[286 rows x 7 columns]"
      ]
     },
     "execution_count": 305,
     "metadata": {},
     "output_type": "execute_result"
    }
   ],
   "source": [
    "\n",
    "Antifraud_split1"
   ]
  },
  {
   "cell_type": "code",
   "execution_count": null,
   "metadata": {},
   "outputs": [],
   "source": [
    "https://jupyter.lab.karpov.courses/user/a-drugov/notebooks/Untitled%20Folder/AB_context_Samokat.ipynb#"
   ]
  },
  {
   "cell_type": "code",
   "execution_count": null,
   "metadata": {},
   "outputs": [],
   "source": []
  },
  {
   "cell_type": "code",
   "execution_count": 310,
   "metadata": {},
   "outputs": [
    {
     "name": "stdout",
     "output_type": "stream",
     "text": [
      "\n",
      "Хи-квадрат статистика: 2.5737814091863997\n",
      "P-значение: 0.10864774066896184\n"
     ]
    }
   ],
   "source": [
    "contingency_table = pd.crosstab(Antifraud_split1['duration'], Antifraud_split1['ind_frod'])\n",
    "chi2, p, dof, expected = stats.chi2_contingency(contingency_table)\n",
    "print(f\"\\nХи-квадрат статистика: {chi2}\")\n",
    "print(f\"P-значение: {p}\")"
   ]
  },
  {
   "cell_type": "code",
   "execution_count": null,
   "metadata": {},
   "outputs": [],
   "source": []
  },
  {
   "cell_type": "code",
   "execution_count": 255,
   "metadata": {},
   "outputs": [
    {
     "name": "stdout",
     "output_type": "stream",
     "text": [
      "Среднее время до активации: 195.8 дней\n"
     ]
    }
   ],
   "source": []
  },
  {
   "cell_type": "code",
   "execution_count": 197,
   "metadata": {},
   "outputs": [
    {
     "name": "stdout",
     "output_type": "stream",
     "text": [
      "Среднее время до активации: 123.0 дней\n"
     ]
    }
   ],
   "source": []
  },
  {
   "cell_type": "code",
   "execution_count": null,
   "metadata": {},
   "outputs": [],
   "source": []
  },
  {
   "cell_type": "code",
   "execution_count": null,
   "metadata": {},
   "outputs": [],
   "source": []
  },
  {
   "cell_type": "code",
   "execution_count": null,
   "metadata": {},
   "outputs": [],
   "source": []
  },
  {
   "cell_type": "code",
   "execution_count": null,
   "metadata": {},
   "outputs": [],
   "source": []
  },
  {
   "cell_type": "code",
   "execution_count": null,
   "metadata": {},
   "outputs": [],
   "source": []
  },
  {
   "cell_type": "code",
   "execution_count": null,
   "metadata": {},
   "outputs": [],
   "source": []
  },
  {
   "cell_type": "code",
   "execution_count": null,
   "metadata": {},
   "outputs": [],
   "source": []
  }
 ],
 "metadata": {
  "kernelspec": {
   "display_name": "Python 3",
   "language": "python",
   "name": "python3"
  },
  "language_info": {
   "codemirror_mode": {
    "name": "ipython",
    "version": 3
   },
   "file_extension": ".py",
   "mimetype": "text/x-python",
   "name": "python",
   "nbconvert_exporter": "python",
   "pygments_lexer": "ipython3",
   "version": "3.7.3"
  }
 },
 "nbformat": 4,
 "nbformat_minor": 4
}
